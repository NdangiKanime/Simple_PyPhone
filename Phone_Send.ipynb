{
 "cells": [
  {
   "cell_type": "code",
   "execution_count": 1,
   "metadata": {},
   "outputs": [
    {
     "name": "stdout",
     "output_type": "stream",
     "text": [
      "Access http://localhost:9000\n"
     ]
    },
    {
     "data": {
      "text/plain": [
       "<function __main__.createServer()>"
      ]
     },
     "execution_count": 1,
     "metadata": {},
     "output_type": "execute_result"
    }
   ],
   "source": [
    "from socket import *\n",
    "\n",
    "def createServer():\n",
    "    serversocket = socket(AF_INET, SOCK_STREAM)\n",
    "   # try : \n",
    "    serversocket.bind(('localhost', 9000))\n",
    "    serversocket.listen(5)\n",
    "    while(1):\n",
    "        (clientsocket, address) = serversocket.accept()\n",
    "            \n",
    "        rd = clientsocket.recv(5000).decode()\n",
    "        pieces = rd.split('\\n')\n",
    "        if ( len(pieces) > 0) : print(pieces[0])\n",
    "                \n",
    "        data = 'HTTP/1.1 200OK\\r\\n'\n",
    "        data += 'Content-Type: text/html; charset=utf-8\\r\\n'\n",
    "        data += '<html><body>Django Done!!!</body></html>\\r\\n\\r\\n'\n",
    "        clientsocket.sendall(data.encode())\n",
    "        clientsocket.shutdown(SHUT_WR)\n",
    "                \n",
    "       # except KeyboardInterrupt:\n",
    "           # print('\\nShutting down...\\n');\n",
    "        #except Exception as exc:\n",
    "            #print('Error:\\n');\n",
    "            #print(exc)\n",
    "                \n",
    "    serversocket.close()\n",
    "print('Access http://localhost:9000')\n",
    "createServer\n",
    "        \n",
    "            "
   ]
  },
  {
   "cell_type": "code",
   "execution_count": null,
   "metadata": {},
   "outputs": [],
   "source": []
  }
 ],
 "metadata": {
  "kernelspec": {
   "display_name": "Python 3",
   "language": "python",
   "name": "python3"
  },
  "language_info": {
   "codemirror_mode": {
    "name": "ipython",
    "version": 3
   },
   "file_extension": ".py",
   "mimetype": "text/x-python",
   "name": "python",
   "nbconvert_exporter": "python",
   "pygments_lexer": "ipython3",
   "version": "3.7.4"
  }
 },
 "nbformat": 4,
 "nbformat_minor": 2
}
